{
 "cells": [
  {
   "cell_type": "code",
   "execution_count": 1,
   "metadata": {
    "collapsed": true
   },
   "outputs": [],
   "source": [
    "import pickle\n",
    "from sklearn.feature_extraction.text import TfidfVectorizer\n",
    "import jieba.posseg as pseg\n",
    "import sklearn.externals.joblib as jl"
   ]
  },
  {
   "cell_type": "code",
   "execution_count": 2,
   "metadata": {
    "collapsed": false
   },
   "outputs": [
    {
     "name": "stdout",
     "output_type": "stream",
     "text": [
      "model loaded\n"
     ]
    }
   ],
   "source": [
    "vocabulary_to_load = pickle.load(open('vocabulary', 'r'))\n",
    "fh =  TfidfVectorizer( vocabulary=vocabulary_to_load);\n",
    "svclf = jl.load('final.pkl')\n",
    "print('model loaded')"
   ]
  },
  {
   "cell_type": "code",
   "execution_count": 3,
   "metadata": {
    "collapsed": false
   },
   "outputs": [],
   "source": [
    "def fenci(summary):\n",
    "    nlp_features_list = \"\"\n",
    "    nlp_features = pseg.cut(summary)\n",
    "    for w in nlp_features:\n",
    "        nlp_features_list = nlp_features_list + \" \" + w.word \n",
    "    return nlp_features_list "
   ]
  },
  {
   "cell_type": "code",
   "execution_count": 4,
   "metadata": {
    "collapsed": true
   },
   "outputs": [],
   "source": [
    "def predict(content):\n",
    "    kv = fenci(content)\n",
    "    ##print svclf\n",
    "    fh._validate_vocabulary()\n",
    "    mt = fh.fit_transform([kv])\n",
    "    num =  svclf.predict(mt)\n",
    "    return num"
   ]
  },
  {
   "cell_type": "code",
   "execution_count": 5,
   "metadata": {
    "collapsed": false
   },
   "outputs": [
    {
     "name": "stderr",
     "output_type": "stream",
     "text": [
      "Building prefix dict from the default dictionary ...\n",
      "Loading model from cache /var/folders/5p/p0cynt1n6kg2v_06_3svvm0m0000gn/T/jieba.cache\n",
      "Loading model cost 1.504 seconds.\n",
      "Prefix dict has been built succesfully.\n"
     ]
    },
    {
     "name": "stdout",
     "output_type": "stream",
     "text": [
      "content 安全水果长期供应，有需要的M，量大 label 1 predicted label [1] \n"
     ]
    }
   ],
   "source": [
    "import pandas as pd\n",
    "df = pd.read_excel('messagesample.xlsx')\n",
    "df['label'] = 0\n",
    "df.loc[df['code_str']=='OK-denied','label'] =1\n",
    "print('content %s label %s predicted label %s ' %(df.iloc[0]['content'],  df.iloc[0]['label'], predict(df.iloc[0]['content']) ))"
   ]
  },
  {
   "cell_type": "code",
   "execution_count": 6,
   "metadata": {
    "collapsed": false
   },
   "outputs": [
    {
     "name": "stdout",
     "output_type": "stream",
     "text": [
      "error [497] total 9892\n"
     ]
    }
   ],
   "source": [
    "df_test = df.loc[:10000]\n",
    "total =len(df_test) \n",
    "error = 0\n",
    "for index, row in df_test.iterrows():\n",
    "    try:\n",
    "        predicted_label = predict(row['content'])\n",
    "        ##print('%content %s label %s predicted label %s ' %(row['content'],  row['label'], predicted_label ))\n",
    "        error = error + abs(predicted_label-row['label'])\n",
    "    except Exception:\n",
    "        total = total-1  \n",
    "print(\"error %s total %s\" %(error,total) )    "
   ]
  },
  {
   "cell_type": "code",
   "execution_count": null,
   "metadata": {
    "collapsed": true
   },
   "outputs": [],
   "source": []
  }
 ],
 "metadata": {
  "anaconda-cloud": {},
  "kernelspec": {
   "display_name": "Python [default]",
   "language": "python",
   "name": "python2"
  },
  "language_info": {
   "codemirror_mode": {
    "name": "ipython",
    "version": 2
   },
   "file_extension": ".py",
   "mimetype": "text/x-python",
   "name": "python",
   "nbconvert_exporter": "python",
   "pygments_lexer": "ipython2",
   "version": "2.7.12"
  }
 },
 "nbformat": 4,
 "nbformat_minor": 1
}
